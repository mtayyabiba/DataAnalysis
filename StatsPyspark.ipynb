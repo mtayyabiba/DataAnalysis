{
 "cells": [
  {
   "cell_type": "code",
   "execution_count": 1,
   "metadata": {},
   "outputs": [],
   "source": [
    "import findspark\n",
    "findspark.init()"
   ]
  },
  {
   "cell_type": "code",
   "execution_count": 2,
   "metadata": {},
   "outputs": [],
   "source": [
    "import pyspark"
   ]
  },
  {
   "cell_type": "code",
   "execution_count": 3,
   "metadata": {},
   "outputs": [],
   "source": [
    "sc = pyspark.SparkContext(appName=\"Pi\")"
   ]
  },
  {
   "cell_type": "code",
   "execution_count": 4,
   "metadata": {},
   "outputs": [],
   "source": [
    "rdd = sc.parallelize(list(range(100))+[-1000]*1000)"
   ]
  },
  {
   "cell_type": "code",
   "execution_count": 5,
   "metadata": {},
   "outputs": [],
   "source": [
    "sum = rdd.sum()\n",
    "n= rdd.count()"
   ]
  },
  {
   "cell_type": "markdown",
   "metadata": {},
   "source": [
    "## Mean"
   ]
  },
  {
   "cell_type": "code",
   "execution_count": 6,
   "metadata": {},
   "outputs": [
    {
     "name": "stdout",
     "output_type": "stream",
     "text": [
      "-904.5909090909091\n"
     ]
    }
   ],
   "source": [
    "mean = sum/n\n",
    "print(mean)"
   ]
  },
  {
   "cell_type": "markdown",
   "metadata": {},
   "source": [
    "## Median"
   ]
  },
  {
   "cell_type": "code",
   "execution_count": 7,
   "metadata": {},
   "outputs": [
    {
     "name": "stdout",
     "output_type": "stream",
     "text": [
      "-1000.0\n"
     ]
    }
   ],
   "source": [
    "#first sort the list for median\n",
    "sortIndex = rdd.sortBy(lambda x : x).zipWithIndex().map(lambda valKey: (valKey[1],valKey[0]))\n",
    "n = sortIndex.count()\n",
    "if (n%2==1):\n",
    "    print(sortIndex.lookup((n-1)/2)[0])\n",
    "else:\n",
    "    val1 = sortIndex.lookup(n/2-1)[0]\n",
    "    val2 = sortIndex.lookup(n/2)[0]\n",
    "    print((val1+val2)/2)"
   ]
  },
  {
   "cell_type": "markdown",
   "metadata": {},
   "source": [
    "## Standard Deviation"
   ]
  },
  {
   "cell_type": "code",
   "execution_count": 8,
   "metadata": {},
   "outputs": [
    {
     "data": {
      "text/plain": [
       "301.83554509200985"
      ]
     },
     "execution_count": 8,
     "metadata": {},
     "output_type": "execute_result"
    }
   ],
   "source": [
    "# Standard Deviation\n",
    "from math import sqrt\n",
    "sd = sqrt(rdd.map(lambda x: pow(x-mean,2)).sum()/n)\n",
    "sd"
   ]
  },
  {
   "cell_type": "markdown",
   "metadata": {},
   "source": [
    "## Skewness"
   ]
  },
  {
   "cell_type": "code",
   "execution_count": 9,
   "metadata": {},
   "outputs": [
    {
     "data": {
      "text/plain": [
       "2.8503857144433025"
      ]
     },
     "execution_count": 9,
     "metadata": {},
     "output_type": "execute_result"
    }
   ],
   "source": [
    "skew = 1/n*(rdd.map(lambda x: pow(x-mean,3)/pow(sd,3)).sum())\n",
    "skew"
   ]
  },
  {
   "cell_type": "markdown",
   "metadata": {},
   "source": [
    "## Kurtosis"
   ]
  },
  {
   "cell_type": "code",
   "execution_count": 10,
   "metadata": {},
   "outputs": [
    {
     "data": {
      "text/plain": [
       "9.134733566833873"
      ]
     },
     "execution_count": 10,
     "metadata": {},
     "output_type": "execute_result"
    }
   ],
   "source": [
    "kurt = 1/n*(rdd.map(lambda x: pow(x-mean,4)/pow(sd,4)).sum())\n",
    "kurt"
   ]
  },
  {
   "cell_type": "markdown",
   "metadata": {},
   "source": [
    "## Covariance"
   ]
  },
  {
   "cell_type": "code",
   "execution_count": 11,
   "metadata": {},
   "outputs": [
    {
     "name": "stdout",
     "output_type": "stream",
     "text": [
      "0.007897537408226074\n"
     ]
    }
   ],
   "source": [
    "rddx = sc.parallelize(np.random.random(100))\n",
    "rddy = sc.parallelize(np.random.random(100))\n",
    "\n",
    "meanx = rddx.mean()\n",
    "meany = rddy.mean()\n",
    "\n",
    "rddxy = rddx.zip(rddy)\n",
    "n = rddxy.count()\n",
    "covxy = rddxy.map(lambda xy: (xy[0]-meanx)*(xy[1]-meany)).sum()/n\n",
    "print(covxy)"
   ]
  },
  {
   "cell_type": "markdown",
   "metadata": {},
   "source": [
    "## Correlation"
   ]
  },
  {
   "cell_type": "code",
   "execution_count": 12,
   "metadata": {},
   "outputs": [
    {
     "data": {
      "text/plain": [
       "0.09434219949341663"
      ]
     },
     "execution_count": 12,
     "metadata": {},
     "output_type": "execute_result"
    }
   ],
   "source": [
    "from math import sqrt\n",
    "\n",
    "sdx = sqrt(rddx.map(lambda x: pow(x-meanx,2)).sum()/n)\n",
    "sdy = sqrt(rddy.map(lambda x: pow(x-meany,2)).sum()/n)\n",
    "\n",
    "corrxy = covxy / (sdx*sdy)\n",
    "corrxy"
   ]
  },
  {
   "cell_type": "markdown",
   "metadata": {},
   "source": [
    "## Correlation Matrix"
   ]
  },
  {
   "cell_type": "code",
   "execution_count": 13,
   "metadata": {},
   "outputs": [
    {
     "name": "stdout",
     "output_type": "stream",
     "text": [
      "[[ 1.          1.         -1.         -0.10252625]\n",
      " [ 1.          1.         -1.         -0.10252625]\n",
      " [-1.         -1.          1.          0.10252625]\n",
      " [-0.10252625 -0.10252625  0.10252625  1.        ]]\n"
     ]
    }
   ],
   "source": [
    "from pyspark.mllib.stat import Statistics\n",
    "import random\n",
    "\n",
    "column1 = sc.parallelize(range(100))\n",
    "column2 = sc.parallelize(range(101,201))\n",
    "column3 = sc.parallelize(list(reversed(range(100))))\n",
    "column4 = sc.parallelize(random.sample(range(100),100))\n",
    "\n",
    "data = column1.zip(column2).zip(column3).zip(column4).map(lambda x: (x[0][0][0],x[0][0][1],x[0][1],x[1]))\n",
    "\n",
    "data = data.map(lambda x: [x[0],x[1],x[2],x[3]])\n",
    "corrs = Statistics.corr(data)\n",
    "print(corrs)"
   ]
  },
  {
   "cell_type": "code",
   "execution_count": 14,
   "metadata": {},
   "outputs": [
    {
     "data": {
      "text/plain": [
       "[Text(0, 0, 'c4'), Text(0, 0, 'c3'), Text(0, 0, 'c2'), Text(0, 0, 'c1')]"
      ]
     },
     "execution_count": 14,
     "metadata": {},
     "output_type": "execute_result"
    },
    {
     "data": {
      "image/png": "[encoded data removed]",
      "text/plain": [
       "<Figure size 432x288 with 1 Axes>"
      ]
     },
     "metadata": {
      "needs_background": "light"
     },
     "output_type": "display_data"
    }
   ],
   "source": [
    "import matplotlib.pyplot as plt\n",
    "\n",
    "fig, ax = plt.subplots(1,1)\n",
    "img = ax.imshow(corrs,cmap='hot',extent=[-1,1,-1,1])\n",
    "ax.set_xticks([-0.75,-0.25,0.25,0.75])\n",
    "ax.set_xticklabels(['c1','c2','c3','c4'])\n",
    "ax.set_yticks([-0.75,-0.25,0.25,0.75])\n",
    "ax.set_yticklabels(['c4','c3','c2','c1'])"
   ]
  },
  {
   "cell_type": "code",
   "execution_count": null,
   "metadata": {},
   "outputs": [],
   "source": []
  }
 ],
 "metadata": {
  "kernelspec": {
   "display_name": "Python 3",
   "language": "python",
   "name": "python3"
  },
  "language_info": {
   "codemirror_mode": {
    "name": "ipython",
    "version": 3
   },
   "file_extension": ".py",
   "mimetype": "text/x-python",
   "name": "python",
   "nbconvert_exporter": "python",
   "pygments_lexer": "ipython3",
   "version": "3.7.3"
  }
 },
 "nbformat": 4,
 "nbformat_minor": 2
}
